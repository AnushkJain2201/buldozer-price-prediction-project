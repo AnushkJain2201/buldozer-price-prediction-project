{
 "cells": [
  {
   "attachments": {},
   "cell_type": "markdown",
   "id": "73a9eb2a-18cf-4fee-99b3-4e0469b32c1c",
   "metadata": {},
   "source": [
    "# Predicting the Sale Price of Bulldozers using Machine Learning\n",
    "\n",
    "In this notebook, we're going to go through an example machine learning project with the goal of predicting the sale price of bulldozers.\n",
    "\n",
    "## 1. Problem Definition\n",
    "> How well we can predict the price of a bulldozer, give it's chararcterstics and previous examples of how much similar bulldozers have been sold for?\n",
    "\n",
    "## 2. Data\n",
    "> The data is downloaded from this link\n",
    "https://github.com/mrdbourke/zero-to-mastery-ml/raw/master/data/bluebook-for-bulldozers.zip\n",
    "\n",
    "> There are three main datasets:\n",
    "* Train.csv is the training set, which contains data through the end of 2011.\n",
    "* Valid.csv is the validation set, which contains data from January 1, 2012 - April 30, 2012 You make predictions on this set throughout the   majority of the competition. Your score on this set is used to create the public leaderboard.\n",
    "* Test.csv is the test set, which won't be released until the last week of the competition. It contains data from May 1, 2012 - November       2012. Your score on the test set determines your final rank for the competition.\n",
    "\n",
    "## 3. Evaluation\n",
    "\n",
    "> The evaluation metric for this competition is the RMSLE (root mean squared log error) between the actual and predicted auction prices.\n",
    "> For more on the evaluation of this project check:\n",
    "https://www.kaggle.com/competitions/bluebook-for-bulldozers/overview\n",
    "\n",
    "> **Note:** The goal for most regression metrics is to minimize the error. \n",
    "\n",
    "## 4.Features\n",
    "\n",
    "https://www.kaggle.com/competitions/bluebook-for-bulldozers/data\n",
    "> Visit the above link \n"
   ]
  },
  {
   "cell_type": "code",
   "execution_count": 1,
   "id": "001b62e1-c04a-4d42-bd13-03030150722c",
   "metadata": {},
   "outputs": [],
   "source": [
    "import numpy as np\n",
    "import pandas as pd\n",
    "import matplotlib.pyplot as plt\n",
    "import sklearn"
   ]
  },
  {
   "cell_type": "code",
   "execution_count": null,
   "id": "1f43bddd-371b-45a9-84fd-87c801885c16",
   "metadata": {},
   "outputs": [],
   "source": [
    "pd.read_csv("
   ]
  }
 ],
 "metadata": {
  "kernelspec": {
   "display_name": "Python 3 (ipykernel)",
   "language": "python",
   "name": "python3"
  },
  "language_info": {
   "codemirror_mode": {
    "name": "ipython",
    "version": 3
   },
   "file_extension": ".py",
   "mimetype": "text/x-python",
   "name": "python",
   "nbconvert_exporter": "python",
   "pygments_lexer": "ipython3",
   "version": "3.12.4"
  }
 },
 "nbformat": 4,
 "nbformat_minor": 5
}
